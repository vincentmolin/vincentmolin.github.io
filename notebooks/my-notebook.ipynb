{
 "metadata": {
  "language_info": {
   "codemirror_mode": {
    "name": "ipython",
    "version": 3
   },
   "file_extension": ".py",
   "mimetype": "text/x-python",
   "name": "python",
   "nbconvert_exporter": "python",
   "pygments_lexer": "ipython3",
   "version": "3.7.2-final"
  },
  "orig_nbformat": 2,
  "kernelspec": {
   "name": "python3",
   "display_name": "Python 3.7.2 64-bit",
   "metadata": {
    "interpreter": {
     "hash": "1ef5b34e3d9dc0269c25d8591bb8576f2395dca4c7f98cc3d04d7528f02eaaaf"
    }
   }
  }
 },
 "nbformat": 4,
 "nbformat_minor": 2,
 "cells": [
  {
   "source": [
    "# A basic notebook with a front matter and front matter divider...\n",
    "Date: 2021-02-15 21:51\n",
    "Author: Vincent\n",
    "<!--eofm-->"
   ],
   "cell_type": "markdown",
   "metadata": {}
  },
  {
   "source": [
    "Hello there! Let $F_1$ be a mapping from $\\mathbf{R}^2\\to \\{0,1\\}$. Then do some *italics* and some **bold boys**. Code now?"
   ],
   "cell_type": "markdown",
   "metadata": {}
  },
  {
   "cell_type": "code",
   "execution_count": 1,
   "metadata": {},
   "outputs": [
    {
     "output_type": "stream",
     "name": "stdout",
     "text": [
      "f(x) for x from 0 to 4: 1 2 5 10 17\n"
     ]
    }
   ],
   "source": [
    "f = lambda x: x**2 + 1\n",
    "print(\"f(x) for x from 0 to 4:\", *map(f, range(5)))"
   ]
  }
 ]
}